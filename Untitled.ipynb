{
 "cells": [
  {
   "cell_type": "code",
   "execution_count": 3,
   "id": "f30a0c7e-688b-400a-9f36-b16914ba524f",
   "metadata": {},
   "outputs": [],
   "source": [
    "import numpy as np\n",
    "from scipy.stats import wasserstein_distance, wasserstein_distance_nd"
   ]
  },
  {
   "cell_type": "code",
   "execution_count": 2,
   "id": "85c6dd8f-c3c3-44e9-a2cd-87d3735403a8",
   "metadata": {},
   "outputs": [
    {
     "data": {
      "text/plain": [
       "<function scipy.stats._stats_py.wasserstein_distance(u_values, v_values, u_weights=None, v_weights=None)>"
      ]
     },
     "execution_count": 2,
     "metadata": {},
     "output_type": "execute_result"
    }
   ],
   "source": [
    "wasserstein_distance"
   ]
  },
  {
   "cell_type": "code",
   "execution_count": 18,
   "id": "a1fdc3a1-3bc5-46a9-9c4d-85068e67a64f",
   "metadata": {},
   "outputs": [],
   "source": [
    "a = np.random.normal(size=(1000,10))\n",
    "b = np.random.normal(loc=3, size=(1000,10))"
   ]
  },
  {
   "cell_type": "code",
   "execution_count": 19,
   "id": "8cf9c1aa-ba93-4efb-9075-02dcc905933b",
   "metadata": {},
   "outputs": [
    {
     "data": {
      "text/plain": [
       "9.738454401661912"
      ]
     },
     "execution_count": 19,
     "metadata": {},
     "output_type": "execute_result"
    }
   ],
   "source": [
    "wasserstein_distance_nd(a, b)"
   ]
  },
  {
   "cell_type": "code",
   "execution_count": null,
   "id": "e9b571ee-bf12-45b6-a946-d5999d103c2c",
   "metadata": {},
   "outputs": [],
   "source": []
  }
 ],
 "metadata": {
  "kernelspec": {
   "display_name": "Python 3 (ipykernel)",
   "language": "python",
   "name": "python3"
  },
  "language_info": {
   "codemirror_mode": {
    "name": "ipython",
    "version": 3
   },
   "file_extension": ".py",
   "mimetype": "text/x-python",
   "name": "python",
   "nbconvert_exporter": "python",
   "pygments_lexer": "ipython3",
   "version": "3.11.13"
  }
 },
 "nbformat": 4,
 "nbformat_minor": 5
}
